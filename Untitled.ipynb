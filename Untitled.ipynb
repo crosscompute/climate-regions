{
 "cells": [
  {
   "cell_type": "code",
   "execution_count": null,
   "id": "299e317a-f23a-432a-8738-369c0ee6fed5",
   "metadata": {
    "tags": []
   },
   "outputs": [],
   "source": [
    "import requests\n",
    "from datetime import datetime"
   ]
  },
  {
   "cell_type": "code",
   "execution_count": null,
   "id": "431d3291-2bfe-4f09-a9c0-5af83d3093f7",
   "metadata": {
    "tags": []
   },
   "outputs": [],
   "source": [
    "# \n",
    "WINTER_MONTHS = {\n",
    "    \"NORTHERN\": [12, 1, 2],\n",
    "    \"SOURTHERN\": [6, 7, 8]\n",
    "}"
   ]
  },
  {
   "cell_type": "code",
   "execution_count": null,
   "id": "51076cb2-b1e5-4573-b803-ce1be20ed514",
   "metadata": {
    "tags": []
   },
   "outputs": [],
   "source": [
    "BASE_URL = \"https://archive-api.open-meteo.com/v1/archive\"\n",
    "PREVIOUS_YEAR = datetime.now().year - 1\n",
    "\n",
    "LATITUDE = 19.43\n",
    "LONGITUDE = -99.13\n",
    "HEMISPHERE = \"NORTHERN\" if float(LATITUDE) >= 0  else \"SOURTHERN\"\n",
    "\n",
    "PARAMETERS = {\n",
    "  \"latitude\": LATITUDE,\n",
    "  \"longitude\": LONGITUDE,\n",
    "  \"start_date\": f\"{PREVIOUS_YEAR}-01-01\",\n",
    "  \"end_date\": f\"{PREVIOUS_YEAR}-12-31\",\n",
    "  \"hourly\": \"temperature_2m,relativehumidity_2m,precipitation\"  \n",
    "}\n",
    "\n",
    "parameters = \"&\".join([f\"{key}={value}\" for key, value in PARAMETERS.items()])\n",
    "URL = f\"{BASE_URL}?{parameters}\""
   ]
  },
  {
   "cell_type": "code",
   "execution_count": null,
   "id": "16aaf9c4-7bc7-4415-baea-e60378a9c961",
   "metadata": {
    "tags": []
   },
   "outputs": [],
   "source": [
    "response = requests.get(URL)\n",
    "\n",
    "# if response.status_code != 200:\n",
    "data = response.json()"
   ]
  },
  {
   "cell_type": "code",
   "execution_count": null,
   "id": "bbbff7b4-960c-4150-930a-23bb297611ed",
   "metadata": {
    "tags": []
   },
   "outputs": [],
   "source": [
    "import pandas as pd\n",
    "\n",
    "df = pd.DataFrame.from_dict(data['hourly'])\n",
    "df"
   ]
  },
  {
   "cell_type": "code",
   "execution_count": null,
   "id": "40df5e40-2331-4064-92e5-68bc7b318915",
   "metadata": {
    "tags": []
   },
   "outputs": [],
   "source": [
    "df[\"time\"] =  pd.to_datetime(df[\"time\"])"
   ]
  },
  {
   "cell_type": "code",
   "execution_count": null,
   "id": "0c515f43-4284-4531-bbb3-2bcfd4d9f01f",
   "metadata": {
    "tags": []
   },
   "outputs": [],
   "source": [
    "# Group data by months\n",
    "months_summary = {}\n",
    "\n",
    "for month_number in range(1, 13):\n",
    "    month_data = df[df['time'].dt.month == month_number]\n",
    "    total_hours = len(month_data)\n",
    "    month_summary = {\n",
    "        \"total_hours\": total_hours,\n",
    "        \"temperature\": month_data[\"temperature_2m\"].sum() / total_hours,\n",
    "        \"relativehumidity_2m\": month_data[\"relativehumidity_2m\"].sum() / total_hours, # \n",
    "        \"precipitation\": month_data[\"precipitation\"].sum() / 10 # manage precipitation in centimeters instead of milimeters\n",
    "    }\n",
    "    months_summary[month_number] = month_summary\n",
    "    \n",
    "months_summary"
   ]
  },
  {
   "cell_type": "markdown",
   "id": "3452d2e6-ac06-4230-bea2-a9bf55a3e084",
   "metadata": {},
   "source": [
    "##  Hot-Humid\n",
    "\n",
    "A hot-humid climate is defined as a region that:\n",
    "\n",
    "  - Receives more than 20 inches (50 cm) of annual precipitation and where one or both of the following occur:\n",
    "    1. A 67°F (19.5°C) or higher wet bulb temperature for 3,000 or more hours during the warmest six consecutive months of the year; or\n",
    "    2. A 73°F (23°C) or higher wet bulb temperature for 1,500 or more hours during the warmest six consecutive months of the year.\n",
    "    \n",
    "The Building America hot-humid climate zone includes the portions of IECC zones 1, 2, and 3 that are in the moist category (A) below the “warm-humid” line shown on the IECC map. \n",
    "\n",
    "\n",
    "## Mixed-Humid\n",
    "A mixed-humid climate is defined as a region that:\n",
    "\n",
    "  - Receives more than 20 inches (50 cm) of annual precipitation, \n",
    "  - Has approximately 5,400 heating degree days 65°F basis (18.3333 °C) or fewer, and \n",
    "  - Where the average monthly outdoor temperature drops below 45°F (7°C) during the winter months.\n",
    "  \n",
    "The Building America mixed-humid climate zone includes the portions of IECC zones 4 and 3 in category A above the “warmhumid” line. "
   ]
  },
  {
   "cell_type": "code",
   "execution_count": null,
   "id": "d63420c6-7a2e-4931-82ea-1819eb317e94",
   "metadata": {
    "tags": []
   },
   "outputs": [],
   "source": [
    "## Calculate six warmest months\n",
    "\n",
    "temperature = [month[\"temperature\"] for month in months_summary.values()]\n",
    "\n",
    "months = [0,1,2,3,4,5]\n",
    "month_combinations = []\n",
    "temperatures = []\n",
    "\n",
    "def inc(months):\n",
    "    return [month + 1 for month in months]\n",
    "\n",
    "while months[0] != 7:\n",
    "    month_combinations.append(months)\n",
    "    total = sum([temperature[x] for x in months])\n",
    "    temperatures.append(total)\n",
    "    months = inc(months)\n",
    "    \n",
    "\n",
    "max_temp = 0\n",
    "index = 0 \n",
    "for x in range(0, len(temperatures)):\n",
    "    if max_temp < temperatures[x]:\n",
    "        max_temp = temperatures[x]\n",
    "        index = x\n",
    "        \n",
    "\n",
    "temperatures\n",
    "six_warmest_months = inc(month_combinations[index])\n",
    "\n",
    "temperatures[index], six_warmest_months"
   ]
  },
  {
   "cell_type": "code",
   "execution_count": null,
   "id": "56ac7c7f-4305-4166-8a0e-d0cb3f96dbf7",
   "metadata": {
    "tags": []
   },
   "outputs": [],
   "source": [
    "# Hot-Humid calculations\n",
    "month_data = df[df['time'].dt.month.isin(six_warmest_months)]\n",
    "\n",
    "six_warmest_months_total_hours = len(month_data)\n",
    "six_warmest_months_hours_gte_19 = len(month_data[month_data[\"temperature_2m\"] > 19.5])\n",
    "six_warmest_months_hours_gte_23 = len(month_data[month_data[\"temperature_2m\"] > 23])"
   ]
  },
  {
   "cell_type": "code",
   "execution_count": null,
   "id": "640406fc-6bcc-4aae-9654-d7627f8bf4eb",
   "metadata": {
    "tags": []
   },
   "outputs": [],
   "source": [
    "## Mixed-Humid\n",
    "annual_heating_hours = len(df[df['temperature_2m'] >= 18.3333])\n",
    "\n",
    "winter_data = df[df['time'].dt.month.isin(WINTER_MONTHS[HEMISPHERE])]\n",
    "winter_avg_temperature = winter_data['temperature_2m'].sum() / len(winter_data) \n",
    "winter_avg_drops_below_7_C = winter_avg_temperature < 7\n",
    "\n",
    "winter_avg_temperature, winter_avg_drops_below_7_C , annual_heating_days"
   ]
  },
  {
   "cell_type": "code",
   "execution_count": null,
   "id": "14956bdf-1cc5-4cc3-b12c-3e5b227e8584",
   "metadata": {
    "tags": []
   },
   "outputs": [],
   "source": [
    "# Precipitation = (rain + showers + snow)\n",
    "annual_precipitation = sum([month[\"precipitation\"] for month in months_summary.values()])\n",
    "\n",
    "annual_summary = {\n",
    "    \"precipitation\": annual_precipitation,\n",
    "    \"six_warmest_months\": six_warmest_months,\n",
    "}\n",
    "\n",
    "annual_summary"
   ]
  }
 ],
 "metadata": {
  "kernelspec": {
   "display_name": "Python 3 (ipykernel)",
   "language": "python",
   "name": "python3"
  },
  "language_info": {
   "codemirror_mode": {
    "name": "ipython",
    "version": 3
   },
   "file_extension": ".py",
   "mimetype": "text/x-python",
   "name": "python",
   "nbconvert_exporter": "python",
   "pygments_lexer": "ipython3",
   "version": "3.10.8"
  }
 },
 "nbformat": 4,
 "nbformat_minor": 5
}
