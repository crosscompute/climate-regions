{
 "cells": [
  {
   "cell_type": "code",
   "execution_count": null,
   "id": "299e317a-f23a-432a-8738-369c0ee6fed5",
   "metadata": {
    "tags": []
   },
   "outputs": [],
   "source": [
    "from datetime import datetime\n",
    "from os import environ\n",
    "from os.path import join\n",
    "\n",
    "import requests\n",
    "import json\n",
    "\n",
    "input_folder = environ.get(\n",
    "    'CROSSCOMPUTE_INPUT_FOLDER', 'batches/standard/input')\n",
    "output_folder = environ.get(\n",
    "    'CROSSCOMPUTE_OUTPUT_FOLDER', 'batches/standard/output')\n",
    "\n",
    "input_path = join(input_folder, 'variables.dictionary')\n",
    "output_path = join(output_folder, 'variables.dictionary')\n",
    "\n",
    "value_by_key = json.load(open(input_path, 'rt'))"
   ]
  },
  {
   "cell_type": "code",
   "execution_count": null,
   "id": "e5ef143d-2338-490c-90fb-03556ee3e52f",
   "metadata": {
    "tags": []
   },
   "outputs": [],
   "source": [
    "# \n",
    "WINTER_MONTHS = {\n",
    "    \"NORTHERN\": [12, 1, 2],\n",
    "    \"SOURTHERN\": [6, 7, 8]\n",
    "}\n",
    "\n",
    "COLD_SEASON = {\n",
    "    \"NORTHERN\": [10, 11, 12, 1, 2, 3],\n",
    "    \"SOURTHERN\": [4, 5, 6, 7, 8, 9]\n",
    "}\n",
    "WARM_SEASON = {\n",
    "    \"NORTHERN\": [4, 5, 6, 7, 8, 9],\n",
    "    \"SOURTHERN\": [10, 11, 12, 1, 2, 3]\n",
    "}"
   ]
  },
  {
   "cell_type": "code",
   "execution_count": null,
   "id": "c15976be-e659-4dc0-915c-1739aed26242",
   "metadata": {
    "tags": []
   },
   "outputs": [],
   "source": [
    "def limit_value(value, left_limit, right_limit):\n",
    "    if value < left_limit:\n",
    "        return left_limit\n",
    "    if value > right_limit:\n",
    "        return right_limit\n",
    "    return value"
   ]
  },
  {
   "cell_type": "code",
   "execution_count": null,
   "id": "5d8ef5bc-d05c-4b93-9f0c-ecf23afa035f",
   "metadata": {
    "tags": []
   },
   "outputs": [],
   "source": [
    "BASE_URL = \"https://archive-api.open-meteo.com/v1/archive\"\n",
    "PREVIOUS_YEAR = datetime.now().year - 1\n",
    "\n",
    "LATITUDE = limit_value(value_by_key[\"latitude\"], -90, 90)\n",
    "LONGITUDE = limit_value(value_by_key[\"longitude\"], -180, 180)\n",
    "\n",
    "HEMISPHERE = \"NORTHERN\" if float(LATITUDE) >= 0  else \"SOURTHERN\"\n",
    "\n",
    "PARAMETERS = {\n",
    "  \"latitude\": LATITUDE,\n",
    "  \"longitude\": LONGITUDE,\n",
    "  \"start_date\": f\"{PREVIOUS_YEAR}-01-01\",\n",
    "  \"end_date\": f\"{PREVIOUS_YEAR}-12-31\",\n",
    "  \"hourly\": \"temperature_2m,relativehumidity_2m,precipitation\"  \n",
    "}\n",
    "\n",
    "parameters = \"&\".join([f\"{key}={value}\" for key, value in PARAMETERS.items()])\n",
    "URL = f\"{BASE_URL}?{parameters}\""
   ]
  },
  {
   "cell_type": "code",
   "execution_count": null,
   "id": "16aaf9c4-7bc7-4415-baea-e60378a9c961",
   "metadata": {
    "tags": []
   },
   "outputs": [],
   "source": [
    "response = requests.get(URL)\n",
    "\n",
    "# if response.status_code != 200:\n",
    "data = response.json()"
   ]
  },
  {
   "cell_type": "code",
   "execution_count": null,
   "id": "bbbff7b4-960c-4150-930a-23bb297611ed",
   "metadata": {
    "tags": []
   },
   "outputs": [],
   "source": [
    "import pandas as pd\n",
    "\n",
    "regions_summary = {}\n",
    "\n",
    "df = pd.DataFrame.from_dict(data['hourly'])\n",
    "df"
   ]
  },
  {
   "cell_type": "markdown",
   "id": "dd8d391c-ec2d-480b-a430-9f5cf4761314",
   "metadata": {
    "tags": []
   },
   "source": [
    "## Heating degree days (HDD) \n",
    "\n",
    "> Heating degree days (HDD) are a measure of how cold the temperature was on a given day or during a period of days. For example, a day with a mean temperature of 40°F has 25 HDD. Two such cold days in a row have a total of 50 HDD for the two-day period.\n",
    "\n",
    "https://www.eia.gov/energyexplained/units-and-calculators/degree-days.php\n",
    "https://www.investopedia.com/terms/h/heatingdegreeday.asp"
   ]
  },
  {
   "cell_type": "code",
   "execution_count": null,
   "id": "b627faa2-bb20-44e8-bc50-212703a9c9db",
   "metadata": {
    "tags": []
   },
   "outputs": [],
   "source": [
    "df[\"time\"] =  pd.to_datetime(df[\"time\"])\n",
    "df[\"HDD\"] = 18.3333 - df[\"temperature_2m\"]\n",
    "df.HDD[df[\"HDD\"] < 0] = 0\n",
    "df"
   ]
  },
  {
   "cell_type": "code",
   "execution_count": null,
   "id": "0c515f43-4284-4531-bbb3-2bcfd4d9f01f",
   "metadata": {
    "tags": []
   },
   "outputs": [],
   "source": [
    "# Group data by months\n",
    "months_summary = {}\n",
    "\n",
    "for month_number in range(1, 13):\n",
    "    month_data = df[df['time'].dt.month == month_number]\n",
    "    total_hours = len(month_data)\n",
    "    month_summary = {\n",
    "        \"total_hours\": total_hours,\n",
    "        \"temperature\": month_data[\"temperature_2m\"].sum() / total_hours,\n",
    "        \"relativehumidity\": month_data[\"relativehumidity_2m\"].sum() / total_hours, # \n",
    "        \"precipitation\": month_data[\"precipitation\"].sum() / 10, # manage precipitation in centimeters instead of milimeters\n",
    "        \"HDD\": month_data[\"HDD\"].sum() / 24\n",
    "\n",
    "    }\n",
    "    months_summary[month_number] = month_summary\n",
    "    \n",
    "months_summary"
   ]
  },
  {
   "cell_type": "code",
   "execution_count": null,
   "id": "d63420c6-7a2e-4931-82ea-1819eb317e94",
   "metadata": {
    "tags": []
   },
   "outputs": [],
   "source": [
    "## Calculate six warmest months\n",
    "\n",
    "temperature = [month[\"temperature\"] for month in months_summary.values()]\n",
    "\n",
    "months = [0,1,2,3,4,5]\n",
    "month_combinations = []\n",
    "temperatures = []\n",
    "\n",
    "def inc(months):\n",
    "    return [month + 1 for month in months]\n",
    "\n",
    "while months[0] != 7:\n",
    "    month_combinations.append(months)\n",
    "    total = sum([temperature[x] for x in months])\n",
    "    temperatures.append(total)\n",
    "    months = inc(months)\n",
    "    \n",
    "\n",
    "max_temp = 0\n",
    "index = 0 \n",
    "for x in range(0, len(temperatures)):\n",
    "    if max_temp < temperatures[x]:\n",
    "        max_temp = temperatures[x]\n",
    "        index = x\n",
    "        \n",
    "\n",
    "temperatures\n",
    "six_warmest_months = inc(month_combinations[index])\n",
    "\n",
    "temperatures[index], six_warmest_months"
   ]
  },
  {
   "cell_type": "code",
   "execution_count": null,
   "id": "14956bdf-1cc5-4cc3-b12c-3e5b227e8584",
   "metadata": {
    "tags": []
   },
   "outputs": [],
   "source": [
    "# Precipitation = (rain + showers + snow)\n",
    "annual_precipitation = sum([month[\"precipitation\"] for month in months_summary.values()])\n",
    "\n",
    "annual_heating_hours = len(df[df['temperature_2m'] >= 18.3333])\n",
    "heating_degree_days = sum([month[\"HDD\"] for month in months_summary.values()])\n",
    "\n",
    "annual_summary = {\n",
    "    \"precipitation\": annual_precipitation,\n",
    "    \"six_warmest_months\": six_warmest_months,\n",
    "    \"heating_hours\": annual_heating_hours,\n",
    "    \"heating_degree_days\": heating_degree_days\n",
    "}\n",
    "\n",
    "annual_summary"
   ]
  },
  {
   "cell_type": "markdown",
   "id": "3452d2e6-ac06-4230-bea2-a9bf55a3e084",
   "metadata": {},
   "source": [
    "# Hot-Humid\n",
    "\n",
    "A hot-humid climate is defined as a region that:\n",
    "\n",
    "  - [X] Receives more than 20 inches (50 cm) of annual precipitation and where one or both of the following occur:\n",
    "    1. A 67°F (19.5°C) or higher wet bulb temperature for 3,000 or more hours during the warmest six consecutive months of the year; or\n",
    "    2. A 73°F (23°C) or higher wet bulb temperature for 1,500 or more hours during the warmest six consecutive months of the year.\n",
    "    \n",
    "The Building America hot-humid climate zone includes the portions of IECC zones 1, 2, and 3 that are in the moist category (A) below the “warm-humid” line shown on the IECC map. \n"
   ]
  },
  {
   "cell_type": "code",
   "execution_count": null,
   "id": "56ac7c7f-4305-4166-8a0e-d0cb3f96dbf7",
   "metadata": {
    "tags": []
   },
   "outputs": [],
   "source": [
    "# Hot-Humid calculations\n",
    "month_data = df[df['time'].dt.month.isin(six_warmest_months)]\n",
    "\n",
    "six_warmest_months_total_hours = len(month_data)\n",
    "six_warmest_months_hours_gte_19 = len(month_data[month_data[\"temperature_2m\"] > 19.5])\n",
    "six_warmest_months_hours_gte_23 = len(month_data[month_data[\"temperature_2m\"] > 23])\n",
    "\n",
    "is_hot_humid = annual_summary[\"precipitation\"] > 50 and (six_warmest_months_hours_gte_19 > 3000 or six_warmest_months_hours_gte_23 > 1500)\n",
    "\n",
    "regions_summary[\"Hot-Humid\"] = {\n",
    "    \"selected\":  is_hot_humid,\n",
    "    \"Receives more than 20 inches (50 cm) of annual precipitation\": annual_summary[\"precipitation\"] > 50,\n",
    "    \"A 67°F (19.5°C) or higher wet bulb temperature for 3,000 or more hours during the warmest six consecutive months of the year\": six_warmest_months_hours_gte_19 > 3000,\n",
    "    \"Or a 73°F (23°C) or higher wet bulb temperature for 1,500 or more hours during the warmest six consecutive months of the year\": six_warmest_months_hours_gte_23 > 1500\n",
    "}\n",
    "regions_summary"
   ]
  },
  {
   "cell_type": "markdown",
   "id": "d4099d7e-3f02-4939-bb38-c55c058e3473",
   "metadata": {
    "tags": []
   },
   "source": [
    "# Mixed-Humid\n",
    "A mixed-humid climate is defined as a region that:\n",
    "\n",
    "  - [X] Receives more than 20 inches (50 cm) of annual precipitation, \n",
    "  - [X] Has approximately 5,400 heating degree days 65°F basis (18.3333 °C) or fewer, and \n",
    "  - [X] Where the average monthly outdoor temperature drops below 45°F (7°C) during the winter months.\n",
    "  \n",
    "The Building America mixed-humid climate zone includes the portions of IECC zones 4 and 3 in category A above the “warmhumid” line. "
   ]
  },
  {
   "cell_type": "code",
   "execution_count": null,
   "id": "77745a9e-cd76-43dd-8baf-3c92fabb489b",
   "metadata": {
    "tags": []
   },
   "outputs": [],
   "source": [
    "def hdd_f2C(hdd_days):\n",
    "    return (hdd_days * 9) / 5"
   ]
  },
  {
   "cell_type": "code",
   "execution_count": null,
   "id": "17808405-de30-44af-99df-44b374f5c21d",
   "metadata": {
    "tags": []
   },
   "outputs": [],
   "source": [
    "## Mixed-Humid\n",
    "\n",
    "winter_data = df[df['time'].dt.month.isin(WINTER_MONTHS[HEMISPHERE])]\n",
    "winter_avg_temperature = winter_data['temperature_2m'].sum() / len(winter_data) \n",
    "winter_avg_drops_below_7_C = winter_avg_temperature < 7\n",
    "\n",
    "winter_avg_temperature, winter_avg_drops_below_7_C , annual_summary[\"heating_degree_days\"], hdd_f2C(5400)"
   ]
  },
  {
   "cell_type": "code",
   "execution_count": null,
   "id": "568f498f-bf66-43e2-bb3f-f08314a997e6",
   "metadata": {
    "tags": []
   },
   "outputs": [],
   "source": [
    "is_mixed_humid = annual_summary[\"precipitation\"] > 50 and winter_avg_drops_below_7_C and annual_summary[\"heating_degree_days\"] < hdd_f2C(5400)\n",
    "\n",
    "regions_summary[\"Mixed-Humid\"] = {\n",
    "    \"selected\":  is_mixed_humid,\n",
    "    \"Receives more than 20 inches (50 cm) of annual precipitation\": annual_summary[\"precipitation\"] > 50,\n",
    "    \"Has approximately 5,400 heating degree days 65°F basis (18.3333 °C) or fewer\": annual_summary[\"heating_degree_days\"] < hdd_f2C(5400),\n",
    "    \"Where the average monthly outdoor temperature drops below 45°F (7°C) during the winter months\": winter_avg_drops_below_7_C\n",
    "}\n",
    "\n",
    "is_mixed_humid"
   ]
  },
  {
   "cell_type": "markdown",
   "id": "7d1c7178-d0a2-4b44-83ec-a57cb9d2abac",
   "metadata": {
    "tags": []
   },
   "source": [
    "## Hot-Dry\n",
    "A hot-dry climate is defined as:\n",
    "  - [X] A region that receives less than 20 inches (50 cm) of annual precipitation and\n",
    "  - [X] where the monthly average outdoor temperature remains above 45°F (7°C) throughout the year.\n",
    "\n",
    "The Building America hot-dry climate zone corresponds to the\n",
    "portions of IECC zones 2 and 3 in the dry category."
   ]
  },
  {
   "cell_type": "code",
   "execution_count": null,
   "id": "97ae7b3a-92d8-4160-ba45-2e5e9685e17c",
   "metadata": {
    "tags": []
   },
   "outputs": [],
   "source": [
    "montly_average_outdoor_temp = sum([month['temperature'] for month in months_summary.values() ]) / 12\n",
    "montly_average_outdoor_temp"
   ]
  },
  {
   "cell_type": "code",
   "execution_count": null,
   "id": "0666feac-d4ed-4259-9348-cc2a13fc34d2",
   "metadata": {
    "tags": []
   },
   "outputs": [],
   "source": [
    "is_hot_dry = annual_summary[\"precipitation\"] < 50 and montly_average_outdoor_temp > 7\n",
    "\n",
    "regions_summary[\"Hot-Dry\"] = {\n",
    "    \"selected\":  is_hot_dry,\n",
    "    \"A region that receives less than 20 inches (50 cm) of annual precipitation\": annual_summary[\"precipitation\"] < 50,\n",
    "    \"where the monthly average outdoor temperature remains above 45°F (7°C) throughout the year\": montly_average_outdoor_temp > 7\n",
    "}\n",
    "is_hot_dry"
   ]
  },
  {
   "cell_type": "markdown",
   "id": "61ed9426-555d-4528-bd6e-cbbf523f498c",
   "metadata": {
    "tags": []
   },
   "source": [
    "# Mixed-Dry\n",
    "\n",
    "A mixed-dry climate is defined as:\n",
    "\n",
    "- [X] A region that receives less than 20 inches (50 cm) of annual precipitation, \n",
    "- [X] Has approximately 5,400 heating degree days (65°F basis) or less, and \n",
    "- [X] Where the average monthly outdoor temperature drops below 45°F (7°C) during the winter months.\n",
    "    \n",
    "The Building America mixed-dry climate zone corresponds to IECC climate zone 4 B (dry)."
   ]
  },
  {
   "cell_type": "code",
   "execution_count": null,
   "id": "3cfa4fe1-fca3-4340-a321-5fd2ccbe87d4",
   "metadata": {
    "tags": []
   },
   "outputs": [],
   "source": [
    "# Mixed-Dry\n",
    "is_mixed_dry = annual_summary[\"precipitation\"] < 50 and annual_summary[\"heating_degree_days\"] < hdd_f2C(5400) and winter_avg_drops_below_7_C\n",
    "regions_summary[\"Mixed-Dry\"] = {\n",
    "    \"selected\":  is_mixed_dry,\n",
    "    \"A region that receives less than 20 inches (50 cm) of annual precipitation\": annual_summary[\"precipitation\"] < 50,\n",
    "    \"Has approximately 5,400 heating degree days (65°F basis) or less\": annual_summary[\"heating_degree_days\"] < hdd_f2C(5400),\n",
    "    \"where the monthly average outdoor temperature remains above 45°F (7°C) throughout the year\": winter_avg_drops_below_7_C\n",
    "}\n",
    "is_mixed_dry"
   ]
  },
  {
   "cell_type": "markdown",
   "id": "d847317f-92d0-4fda-a1ad-c020e804cfa1",
   "metadata": {},
   "source": [
    "# Cold\n",
    "\n",
    "A cold climate is defined as:\n",
    "\n",
    "- [X] A region with between 5,400 and 9,000 heating degree days (65°F basis).\n",
    "    \n",
    "The Building America cold climate corresponds to the IECC climate zones 5 and 6.\n",
    "\n",
    "https://www.degreedays.net/introduction#:~:text=Fahrenheit%2Dbased%20degree%20days%20are,temperature%20of%2059%C2%B0F."
   ]
  },
  {
   "cell_type": "code",
   "execution_count": null,
   "id": "f7a513c6-2d8d-419a-b470-2f81b1aad796",
   "metadata": {
    "tags": []
   },
   "outputs": [],
   "source": [
    "is_cold =  annual_summary[\"heating_degree_days\"] >= hdd_f2C(5400) and annual_summary[\"heating_degree_days\"] <= hdd_f2C(9000)\n",
    "\n",
    "regions_summary[\"Cold\"] = {\n",
    "    \"selected\":  is_cold,\n",
    "    \"A region with between 5,400 and 9,000 heating degree days (65°F basis)\": annual_summary[\"heating_degree_days\"] >= hdd_f2C(5400) and annual_summary[\"heating_degree_days\"] <= hdd_f2C(9000)\n",
    "}\n",
    "\n",
    "(is_cold, hdd_f2C(5400), annual_summary[\"heating_degree_days\"], hdd_f2C(9000))"
   ]
  },
  {
   "cell_type": "markdown",
   "id": "a10cfabc-03c2-40d2-9a56-25347eb44699",
   "metadata": {
    "tags": []
   },
   "source": [
    "# Very-Cold\n",
    "A very cold climate is defined as:\n",
    "\n",
    "- [X] a region with between 9,000 and 12,600 heating degree days (65°F basis).\n",
    "\n",
    "The Building America very cold climate corresponds to IECC climate zone 7."
   ]
  },
  {
   "cell_type": "code",
   "execution_count": null,
   "id": "2327291c-3579-4377-b6b8-b49e04706f3e",
   "metadata": {
    "tags": []
   },
   "outputs": [],
   "source": [
    "is_very_cold =  annual_summary[\"heating_degree_days\"] >= hdd_f2C(9000) and  annual_summary[\"heating_degree_days\"] <= hdd_f2C(12600)\n",
    "regions_summary[\"Very-Cold\"] = {\n",
    "    \"selected\":  is_very_cold,\n",
    "    \"A region with between 9,000 and 12,600 heating degree days (65°F basis)\": annual_summary[\"heating_degree_days\"] >= hdd_f2C(9000) and  annual_summary[\"heating_degree_days\"] <= hdd_f2C(12600),\n",
    "}\n",
    "(is_very_cold, hdd_f2C(9000), annual_summary[\"heating_degree_days\"], hdd_f2C(12600))"
   ]
  },
  {
   "cell_type": "markdown",
   "id": "4ee429f5-c8bf-46b5-8d5f-b6266748d305",
   "metadata": {},
   "source": [
    "# Subarctic\n",
    "\n",
    "A subarctic climate is defined as:\n",
    "- [X] A region with 12,600 heating degree days (65° basis) or more. \n",
    "\n",
    "The only subarctic regions in the United States are in found Alaska, which is not shown in Figure 1.\n",
    "The Building America subarctic climate zone corresponds to IECC climate zone 8."
   ]
  },
  {
   "cell_type": "code",
   "execution_count": null,
   "id": "d6d8f473-012c-4416-8e49-f153f3b24016",
   "metadata": {
    "tags": []
   },
   "outputs": [],
   "source": [
    "is_subartic = annual_summary[\"heating_degree_days\"] >= hdd_f2C(12600)\n",
    "regions_summary[\"Subarctic\"] = {\n",
    "    \"selected\":  is_subartic,\n",
    "    \"A region with 12,600 heating degree days (65° basis) or more\": annual_summary[\"heating_degree_days\"] >= hdd_f2C(12600),\n",
    "}\n",
    "is_very_cold, hdd_f2C(12600), annual_summary[\"heating_degree_days\"]"
   ]
  },
  {
   "cell_type": "markdown",
   "id": "3be0735e-38a2-41fb-be7a-be462c8956ab",
   "metadata": {
    "tags": []
   },
   "source": [
    "# Marine\n",
    "\n",
    "A marine climate is defined as a region that meets all of the\n",
    "following criteria:\n",
    "\n",
    "- [X] A coldest month mean temperature between 27°F (-3°C) and 65°F (18°C)\n",
    "- [X] A warmest month mean of less than 72°F (22°C)\n",
    "- [X] At least 4 months with mean temperatures higher than 50°F (10°C)\n",
    "- [ ] A dry season in summer. The month with the heaviest precipitation in the cold season has at least three times as much precipitation as the month with the least precipitation in the rest of the year. \n",
    "- [ ] The cold season is October through March in the Northern Hemisphere and April through September in the Southern Hemisphere.\n",
    "      \n",
    "The Building America marine climate corresponds to those portions of IECC climate zones 3 and 4 located in the “C” moisture category. "
   ]
  },
  {
   "cell_type": "code",
   "execution_count": null,
   "id": "0dc95b8d-118e-4f0b-bc75-d8f4cbd44d9b",
   "metadata": {
    "tags": []
   },
   "outputs": [],
   "source": [
    "coldest_month = min([month['temperature'] for month in months_summary.values()])\n",
    "coldest_month_in_range = coldest_month >= -3 and coldest_month <= 18\n",
    "\n",
    "warmest_month = max([month['temperature'] for month in months_summary.values()])\n",
    "warmest_month_in_range = coldest_month < 22\n",
    "\n",
    "mimimum_warmest_months = len([month['temperature'] for month in months_summary.values() if month['temperature'] > 10])\n",
    "\n",
    "month_heaviest_precipitation = max([month['precipitation'] for month in map(months_summary.get, COLD_SEASON[HEMISPHERE])])\n",
    "month_least_precipitation = min([month['precipitation'] for month in map(months_summary.get, WARM_SEASON[HEMISPHERE])])\n",
    "\n",
    "dry_season_in_summer = month_heaviest_precipitation / month_least_precipitation > 3\n",
    "\n",
    "coldest_month, coldest_month_in_range, warmest_month, warmest_month_in_range, mimimum_warmest_months, dry_season_in_summer"
   ]
  },
  {
   "cell_type": "code",
   "execution_count": null,
   "id": "d3b68a8a-cf34-4b3c-8dc0-24389e02a7a0",
   "metadata": {
    "tags": []
   },
   "outputs": [],
   "source": [
    "is_marine = coldest_month_in_range and warmest_month_in_range and mimimum_warmest_months >=4  and dry_season_in_summer\n",
    "regions_summary[\"Marine\"] = {\n",
    "    \"selected\":  is_marine,\n",
    "    \"A coldest month mean temperature between 27°F (-3°C) and 65°F (18°C)\": coldest_month_in_range,\n",
    "    \"A warmest month mean of less than 72°F (22°C)\": warmest_month_in_range,\n",
    "    \"At least 4 months with mean temperatures higher than 50°F (10°C)\": mimimum_warmest_months >=4,\n",
    "    \"A dry season in summer. The month with the heaviest precipitation in the cold season has at least three times as much precipitation as the month with the least precipitation in the rest of the year.\": dry_season_in_summer    \n",
    "}\n",
    "is_marine"
   ]
  },
  {
   "cell_type": "code",
   "execution_count": null,
   "id": "b86a90e7-752d-4a83-be6d-4c38433ec8c5",
   "metadata": {
    "tags": []
   },
   "outputs": [],
   "source": [
    "value_by_key = {\n",
    "  \"climate_region\": \", \".join([key for key, value in regions_summary.items() if value[\"selected\"]]),\n",
    "  \"summary\": regions_summary\n",
    "}\n",
    "\n",
    "import numpy as np\n",
    "\n",
    "class CustomJSONizer(json.JSONEncoder):\n",
    "    def default(self, obj):\n",
    "        return super().encode(bool(obj))  if isinstance(obj, np.bool_) else super().default(obj)\n",
    "\n",
    "json.dump(value_by_key, open(output_path, 'wt'), indent=4, cls=CustomJSONizer)\n",
    "value_by_key"
   ]
  }
 ],
 "metadata": {
  "kernelspec": {
   "display_name": "Python 3 (ipykernel)",
   "language": "python",
   "name": "python3"
  },
  "language_info": {
   "codemirror_mode": {
    "name": "ipython",
    "version": 3
   },
   "file_extension": ".py",
   "mimetype": "text/x-python",
   "name": "python",
   "nbconvert_exporter": "python",
   "pygments_lexer": "ipython3",
   "version": "3.10.8"
  }
 },
 "nbformat": 4,
 "nbformat_minor": 5
}
